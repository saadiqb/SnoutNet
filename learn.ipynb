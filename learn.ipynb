{
 "cells": [
  {
   "cell_type": "code",
   "execution_count": 4,
   "id": "23676801",
   "metadata": {},
   "outputs": [],
   "source": [
    "import torch\n",
    "import torch.nn as nn\n",
    "\n",
    "x = torch.tensor([1,2,3])      # (3,)"
   ]
  },
  {
   "cell_type": "code",
   "execution_count": 5,
   "id": "fe6b4adb",
   "metadata": {},
   "outputs": [
    {
     "name": "stdout",
     "output_type": "stream",
     "text": [
      "Input: (227x227)  →  Output: (227x227)\n"
     ]
    }
   ],
   "source": [
    "import math\n",
    "\n",
    "def conv_output_size(H_in, W_in, kernel_size, stride=1, padding=0, dilation=1):\n",
    "    \"\"\"\n",
    "    Computes output height and width of a 2D convolution.\n",
    "    \n",
    "    Formula:\n",
    "        H_out = floor((H_in + 2*padding - dilation*(kernel_size - 1) - 1) / stride + 1)\n",
    "        W_out = floor((W_in + 2*padding - dilation*(kernel_size - 1) - 1) / stride + 1)\n",
    "    \"\"\"\n",
    "    H_out = math.floor((H_in + 2*padding - dilation*(kernel_size - 1) - 1) / stride + 1)\n",
    "    W_out = math.floor((W_in + 2*padding - dilation*(kernel_size - 1) - 1) / stride + 1)\n",
    "    return H_out, W_out\n",
    "\n",
    "\n",
    "# Example: Conv2d(in_channels=3, out_channels=64, kernel_size=3, stride=1, padding=1)\n",
    "H_in, W_in = 227, 227\n",
    "kernel_size, stride, padding, dilation = 3, 1, 1, 1\n",
    "\n",
    "H_out, W_out = conv_output_size(H_in, W_in, kernel_size, stride, padding, dilation)\n",
    "print(f\"Input: ({H_in}x{W_in})  →  Output: ({H_out}x{W_out})\")\n"
   ]
  },
  {
   "cell_type": "code",
   "execution_count": 6,
   "id": "90f0b860",
   "metadata": {},
   "outputs": [
    {
     "name": "stdout",
     "output_type": "stream",
     "text": [
      "torch.Size([1, 64, 57, 57])\n"
     ]
    }
   ],
   "source": [
    "\n",
    "x = torch.randn(1, 3, 227, 227)\n",
    "layer = nn.Sequential(\n",
    "    nn.Conv2d(3, 64, 3, padding=1),\n",
    "    nn.ReLU(),\n",
    "    nn.MaxPool2d(3, 4, ceil_mode=True)\n",
    ")\n",
    "y = layer(x)\n",
    "print(y.shape)\n"
   ]
  },
  {
   "cell_type": "code",
   "execution_count": null,
   "id": "bd372d4c",
   "metadata": {},
   "outputs": [],
   "source": []
  }
 ],
 "metadata": {
  "kernelspec": {
   "display_name": "venv (3.10.12)",
   "language": "python",
   "name": "python3"
  },
  "language_info": {
   "codemirror_mode": {
    "name": "ipython",
    "version": 3
   },
   "file_extension": ".py",
   "mimetype": "text/x-python",
   "name": "python",
   "nbconvert_exporter": "python",
   "pygments_lexer": "ipython3",
   "version": "3.10.12"
  }
 },
 "nbformat": 4,
 "nbformat_minor": 5
}
